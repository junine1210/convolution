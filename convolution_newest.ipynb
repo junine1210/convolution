{
 "cells": [
  {
   "cell_type": "code",
   "execution_count": 1,
   "metadata": {},
   "outputs": [],
   "source": [
    "import numpy as np\n",
    "import cv2\n",
    "from matplotlib import pyplot as plt\n",
    "from skimage.exposure import rescale_intensity"
   ]
  },
  {
   "cell_type": "code",
   "execution_count": 2,
   "metadata": {},
   "outputs": [
    {
     "ename": "SyntaxError",
     "evalue": "invalid syntax (<ipython-input-2-83ddc57c0eca>, line 18)",
     "output_type": "error",
     "traceback": [
      "\u001b[0;36m  File \u001b[0;32m\"<ipython-input-2-83ddc57c0eca>\"\u001b[0;36m, line \u001b[0;32m18\u001b[0m\n\u001b[0;31m    for y in np.arrange()\u001b[0m\n\u001b[0m                         ^\u001b[0m\n\u001b[0;31mSyntaxError\u001b[0m\u001b[0;31m:\u001b[0m invalid syntax\n"
     ]
    }
   ],
   "source": [
    "#def convolve(image, kernel,padding,stride):\n",
    "padding = 1\n",
    "stride = 1\n",
    "\n",
    "image = cv2.imread('messi5.jpg')\n",
    "kernel = np.array([[1,0,-1],[0,0,0],[-1,0,1]])#필터 임의 지정\n",
    "\n",
    "(input_H, input_W, iput_C) = image.shape[0:3]#가로크기,세로크기,채널수를 각각의 변수에 대입\n",
    "(kernel_H, kernel_W) = kernel.shape[0:2]\n",
    "\n",
    "output_W=int((input_W+2*padding-kernel_W)/stride+1)#아웃풋 크기 지정을 위한 변수\n",
    "output_H=int((input_H+2*padding-kernel_H)/stride+1)\n",
    "\n",
    "output=np.zeros((output_W, output_H), dtype=\"float32\")#아웃풋크기지정\n",
    "\n",
    "b,g,r = cv2.split(image)#b에 B채널, g에 G채널, r에 R채널 각각 할당해 2차원 배열\n",
    "\n",
    "for y in np.arrange()\n",
    "\n",
    "\n",
    "\n",
    "#print(image.shape)\n",
    "#print(output.shape)\n",
    "#image=cv2.merge((x,y,z))\n",
    "#plt.imshow(output)"
   ]
  },
  {
   "cell_type": "code",
   "execution_count": null,
   "metadata": {},
   "outputs": [],
   "source": []
  }
 ],
 "metadata": {
  "kernelspec": {
   "display_name": "Python 3",
   "language": "python",
   "name": "python3"
  },
  "language_info": {
   "codemirror_mode": {
    "name": "ipython",
    "version": 3
   },
   "file_extension": ".py",
   "mimetype": "text/x-python",
   "name": "python",
   "nbconvert_exporter": "python",
   "pygments_lexer": "ipython3",
   "version": "3.6.5"
  }
 },
 "nbformat": 4,
 "nbformat_minor": 2
}
