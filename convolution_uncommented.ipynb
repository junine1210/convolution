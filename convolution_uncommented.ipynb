{
 "cells": [
  {
   "cell_type": "code",
   "execution_count": 1,
   "metadata": {},
   "outputs": [],
   "source": [
    "import numpy as np\n",
    "import cv2\n",
    "from matplotlib import pyplot as plt\n",
    "from skimage.exposure import rescale_intensity"
   ]
  },
  {
   "cell_type": "code",
   "execution_count": null,
   "metadata": {},
   "outputs": [],
   "source": [
    "padding = 2\n",
    "stride = 1\n",
    "\n",
    "image = cv2.imread('messi5.jpg')\n",
    "(input_H, input_W, iput_C) = image.shape[0:3]\n",
    "\n",
    "kernel = np.array([[1,0,-1],[0,0,0],[-1,0,1]])\n",
    "(kernel_H, kernel_W) = kernel.shape[0:2]\n",
    "\n",
    "output_H=int((input_H+2*padding-kernel_H)/stride+1)\n",
    "output_W=int((input_W+2*padding-kernel_W)/stride+1)\n",
    "output_C=image.shape[2]\n",
    "\n",
    "output=np.zeros((output_H, output_W, output_C), dtype=\"float32\")\n",
    "\n",
    "image_paded = cv2.copyMakeBorder(image, padding, padding, padding, padding,cv2.BORDER_REPLICATE)\n",
    "\n",
    "b,g,r = cv2.split(image_paded)\n",
    "output_b,output_g,output_r = cv2.split(output)\n",
    "\n",
    "for y in np.arange(0, output_H, stride):\n",
    "    for x in np.arange(0, output_W, stride):\n",
    "        roi = b[y:kernel_H+y , x:kernel_W+x]\n",
    "        k = (roi*kernel).sum()\n",
    "        if (k<0): \n",
    "            output_b[y, x] = 0\n",
    "        else:\n",
    "            output_b[y, x] = k\n",
    "\n",
    "for y in np.arange(0, output_H, stride):\n",
    "    for x in np.arange(0, output_W, stride):\n",
    "        roi = g[y:kernel_H+y , x:kernel_W+x]\n",
    "        k = (roi*kernel).sum()\n",
    "        if (k<0):\n",
    "            output_g[y, x] = 0\n",
    "        else:\n",
    "            output_g[y, x] = k\n",
    "\n",
    "for y in np.arange(0, output_H, stride):\n",
    "    for x in np.arange(0, output_W, stride):\n",
    "        roi = r[y:kernel_H+y , x:kernel_W+x]\n",
    "        k = (roi*kernel).sum()\n",
    "        if (k<0):\n",
    "            output_r[y, x] = 0\n",
    "        else:\n",
    "            output_r[y, x] = k\n",
    "\n",
    "print(\"pad = \" + str(padding))\n",
    "print(\"stride = \" + str(stride))\n",
    "print(\"마스크 사이즈 = \" + str(kernel.shape))\n",
    "print(\"패드 = \" + str(padding))\n",
    "print(\"인풋 이미지 사이즈 : \" + str(image.shape))\n",
    "print(\"아웃풋 이미지 사이즈 : \" + str(output.shape))\n",
    "print(\"패딩_인풋 이미지 사이즈 : \" + str(image_paded.shape))    \n",
    "print(\"패딩_인풋 이미지 사이즈(채널) : \" + str(b.shape))\n",
    "print(\"아웃풋 이미지 사이즈(채널) : \" + str(output_b.shape))\n",
    "\n",
    "output=cv2.merge((output_b.astype('uint8'),output_g.astype('uint8'),output_r.astype('uint8')))\n",
    "\n",
    "plt.subplot(121),plt.imshow(cv2.cvtColor(image,cv2.COLOR_BGR2RGB)),plt.title('Original')\n",
    "plt.subplot(122),plt.imshow(cv2.cvtColor(output,cv2.COLOR_BGR2RGB)),plt.title('changed')\n",
    "plt.show()"
   ]
  }
 ],
 "metadata": {
  "kernelspec": {
   "display_name": "Python 3",
   "language": "python",
   "name": "python3"
  },
  "language_info": {
   "codemirror_mode": {
    "name": "ipython",
    "version": 3
   },
   "file_extension": ".py",
   "mimetype": "text/x-python",
   "name": "python",
   "nbconvert_exporter": "python",
   "pygments_lexer": "ipython3",
   "version": "3.6.5"
  }
 },
 "nbformat": 4,
 "nbformat_minor": 2
}
