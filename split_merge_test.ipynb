{
 "cells": [
  {
   "cell_type": "code",
   "execution_count": 1,
   "metadata": {},
   "outputs": [],
   "source": [
    "import numpy as np\n",
    "import cv2\n",
    "from matplotlib import pyplot as plt\n",
    "from skimage.exposure import rescale_intensity\n",
    "img=cv2.imread('messi5.jpg', cv2.IMREAD_COLOR)"
   ]
  },
  {
   "cell_type": "code",
   "execution_count": 2,
   "metadata": {},
   "outputs": [
    {
     "name": "stdout",
     "output_type": "stream",
     "text": [
      "[57 63 68]\n"
     ]
    }
   ],
   "source": [
    "px = img[100,100] # 100,100에서 bgr값\n",
    "print(px)"
   ]
  },
  {
   "cell_type": "code",
   "execution_count": 3,
   "metadata": {},
   "outputs": [
    {
     "name": "stdout",
     "output_type": "stream",
     "text": [
      "57\n"
     ]
    }
   ],
   "source": [
    "blue = img[100,100,0] # 100,100에서 채널 0일때 즉 , b일때의 값\n",
    "print(blue)"
   ]
  },
  {
   "cell_type": "code",
   "execution_count": 4,
   "metadata": {},
   "outputs": [
    {
     "name": "stdout",
     "output_type": "stream",
     "text": [
      "[255 255 255]\n"
     ]
    }
   ],
   "source": [
    "img[100,100] = [255,255,255] # 100,100의 3개의 채널(bgr값을) 255로 바꿈\n",
    "print(img[100,100])\n",
    "\n",
    "\n",
    "#위에서 언급 한 방법은 일반적으로 배열 영역을 선택하는 데 사용됩니다.\n",
    "#예를 들어 처음 5 행과 마지막 3 열을 말합니다.\n",
    "#개별 픽셀 액세스의 경우\n",
    "#Numpy 배열 방법인\n",
    "#array.item() 및 array.itemset ()이 더 좋은 것으로 간주됩니다.\n",
    "#하지만 Numpy 배열은 항상 스칼라를 반환합니다.\n",
    "#따라서 모든 B, G, R 값에 액세스하려면\n",
    "#array.item()을 개별적으로 호출해야합니다."
   ]
  },
  {
   "cell_type": "code",
   "execution_count": 5,
   "metadata": {},
   "outputs": [
    {
     "name": "stdout",
     "output_type": "stream",
     "text": [
      "(280, 450, 3)\n"
     ]
    }
   ],
   "source": [
    "print(img.shape) #이미지 배열의 크기. 가로,세로,크기 축 크기"
   ]
  },
  {
   "cell_type": "code",
   "execution_count": 6,
   "metadata": {},
   "outputs": [
    {
     "name": "stdout",
     "output_type": "stream",
     "text": [
      "378000\n"
     ]
    }
   ],
   "source": [
    "print(img.size) #이미지 크기:가로세로크기 곱"
   ]
  },
  {
   "cell_type": "code",
   "execution_count": 12,
   "metadata": {},
   "outputs": [
    {
     "name": "stdout",
     "output_type": "stream",
     "text": [
      "37\n"
     ]
    }
   ],
   "source": [
    "print(img[0,0,0])"
   ]
  },
  {
   "cell_type": "code",
   "execution_count": 13,
   "metadata": {},
   "outputs": [
    {
     "name": "stdout",
     "output_type": "stream",
     "text": [
      "37\n"
     ]
    }
   ],
   "source": [
    "print(img.item(0,0,0))"
   ]
  },
  {
   "cell_type": "code",
   "execution_count": null,
   "metadata": {},
   "outputs": [],
   "source": []
  }
 ],
 "metadata": {
  "kernelspec": {
   "display_name": "Python 3",
   "language": "python",
   "name": "python3"
  },
  "language_info": {
   "codemirror_mode": {
    "name": "ipython",
    "version": 3
   },
   "file_extension": ".py",
   "mimetype": "text/x-python",
   "name": "python",
   "nbconvert_exporter": "python",
   "pygments_lexer": "ipython3",
   "version": "3.5.2"
  }
 },
 "nbformat": 4,
 "nbformat_minor": 2
}
